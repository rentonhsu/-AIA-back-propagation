{
 "cells": [
  {
   "cell_type": "code",
   "execution_count": 400,
   "metadata": {},
   "outputs": [],
   "source": [
    "import numpy as np"
   ]
  },
  {
   "cell_type": "markdown",
   "metadata": {},
   "source": [
    "## 使用BP算法求解\n",
    "令一函數f(x) = W*X + b，輸出恆為sqrt(2)，請使用bp算法求解W及B值。"
   ]
  },
  {
   "cell_type": "markdown",
   "metadata": {},
   "source": [
    "<img src='image/loss_1.jpg' style='float:left;'>"
   ]
  },
  {
   "cell_type": "code",
   "execution_count": 403,
   "metadata": {},
   "outputs": [],
   "source": [
    "w = 1\n",
    "x = np.random.rand(50000)\n",
    "b = 0\n",
    "y = 2**0.5\n",
    "learning_rate = 0.01"
   ]
  },
  {
   "cell_type": "code",
   "execution_count": 402,
   "metadata": {},
   "outputs": [
    {
     "name": "stdout",
     "output_type": "stream",
     "text": [
      "delta:{-1.14} weight:{1.01} bias:{0.0114}\n",
      "delta:{0.00} weight:{0.00} bias:{1.1892}\n",
      "delta:{-0.00} weight:{0.00} bias:{1.1892}\n",
      "delta:{-0.00} weight:{0.00} bias:{1.1892}\n",
      "delta:{0.00} weight:{0.00} bias:{1.1892}\n",
      "delta:{-0.00} weight:{0.00} bias:{1.1892}\n",
      "delta:{-0.00} weight:{0.00} bias:{1.1892}\n",
      "delta:{-0.00} weight:{0.00} bias:{1.1892}\n",
      "delta:{0.00} weight:{0.00} bias:{1.1892}\n",
      "delta:{0.00} weight:{0.00} bias:{1.1892}\n"
     ]
    }
   ],
   "source": [
    "for i in range(50000):\n",
    "    x_i = x[i]\n",
    "    y_hat = x_i*w + b\n",
    "    delta = (y_hat**2 - y)*2*y_hat\n",
    "    w -= learning_rate*x_i*delta\n",
    "    b -= learning_rate*delta\n",
    "    \n",
    "    if i % 5000 == 0:\n",
    "        print('delta:{%.2f} weight:{%.2f} bias:{%.4f}' % (delta, w, b))"
   ]
  },
  {
   "cell_type": "markdown",
   "metadata": {},
   "source": [
    "<img src='image/loss_2.jpg' style='float:left;'>"
   ]
  },
  {
   "cell_type": "code",
   "execution_count": null,
   "metadata": {},
   "outputs": [],
   "source": [
    "w = 1\n",
    "x = np.random.rand(50000)\n",
    "b = 0\n",
    "y = 2**0.5\n",
    "learning_rate = 0.01"
   ]
  },
  {
   "cell_type": "code",
   "execution_count": 404,
   "metadata": {
    "scrolled": false
   },
   "outputs": [
    {
     "name": "stdout",
     "output_type": "stream",
     "text": [
      "delta:{-0.66} weight:{1.00} bias:{0.0066}\n",
      "delta:{0.01} weight:{0.05} bias:{1.3892}\n",
      "delta:{-0.00} weight:{0.00} bias:{1.4131}\n",
      "delta:{-0.00} weight:{0.00} bias:{1.4142}\n",
      "delta:{0.00} weight:{0.00} bias:{1.4142}\n",
      "delta:{-0.00} weight:{0.00} bias:{1.4142}\n",
      "delta:{-0.00} weight:{0.00} bias:{1.4142}\n",
      "delta:{0.00} weight:{0.00} bias:{1.4142}\n",
      "delta:{-0.00} weight:{0.00} bias:{1.4142}\n",
      "delta:{-0.00} weight:{0.00} bias:{1.4142}\n"
     ]
    }
   ],
   "source": [
    "for i in range(50000):\n",
    "    x_i = x[i]\n",
    "    y_hat = x_i*w + b\n",
    "    delta = y_hat - y\n",
    "    w -= learning_rate*x_i*delta\n",
    "    b -= learning_rate*delta\n",
    "    \n",
    "    if i % 5000 == 0:\n",
    "        print('delta:{%.2f} weight:{%.2f} bias:{%.4f}' % (delta, w, b))"
   ]
  },
  {
   "cell_type": "code",
   "execution_count": null,
   "metadata": {},
   "outputs": [],
   "source": []
  }
 ],
 "metadata": {
  "kernelspec": {
   "display_name": "Python 3",
   "language": "python",
   "name": "python3"
  },
  "language_info": {
   "codemirror_mode": {
    "name": "ipython",
    "version": 3
   },
   "file_extension": ".py",
   "mimetype": "text/x-python",
   "name": "python",
   "nbconvert_exporter": "python",
   "pygments_lexer": "ipython3",
   "version": "3.5.5"
  }
 },
 "nbformat": 4,
 "nbformat_minor": 2
}
